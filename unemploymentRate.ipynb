{
 "cells": [
  {
   "cell_type": "code",
   "execution_count": 1,
   "id": "82663ee9",
   "metadata": {},
   "outputs": [],
   "source": [
    "import pandas as pd\n",
    "\n",
    "import sqlalchemy\n",
    "from sqlalchemy.ext.automap import automap_base\n",
    "from sqlalchemy.orm import Session\n",
    "from sqlalchemy import create_engine, inspect\n",
    "from sqlalchemy.exc import IntegrityError\n",
    "\n",
    "\n",
    "from datetime import datetime\n",
    "import math"
   ]
  },
  {
   "cell_type": "code",
   "execution_count": 2,
   "id": "55b5bfcb",
   "metadata": {
    "scrolled": true
   },
   "outputs": [
    {
     "name": "stdout",
     "output_type": "stream",
     "text": [
      "              Category   DateTime  Value  Value Difference\n",
      "768  Unemployment Rate 2012-01-31    8.3               NaN\n",
      "769  Unemployment Rate 2012-02-29    8.3               0.0\n",
      "770  Unemployment Rate 2012-03-31    8.2              -0.1\n",
      "771  Unemployment Rate 2012-04-30    8.2               0.0\n",
      "772  Unemployment Rate 2012-05-31    8.2               0.0\n",
      "..                 ...        ...    ...               ...\n",
      "883  Unemployment Rate 2021-08-31    5.2              -0.2\n",
      "884  Unemployment Rate 2021-09-30    4.7              -0.5\n",
      "885  Unemployment Rate 2021-10-31    4.6              -0.1\n",
      "886  Unemployment Rate 2021-11-30    4.2              -0.4\n",
      "887  Unemployment Rate 2021-12-31    3.9              -0.3\n",
      "\n",
      "[120 rows x 4 columns]\n"
     ]
    }
   ],
   "source": [
    "# read in the master counties data, create a DataFrame, create new 'county_state' column\n",
    "path = './Resources/Unemployment_Rate.csv'\n",
    "Unemployment_RateDF = pd.read_csv(path)\n",
    "keep_col = ['Category','DateTime','Value']\n",
    "Unemployment_RateDF = Unemployment_RateDF[keep_col].drop_duplicates(keep='first')\n",
    "# convert date column into date format\n",
    "Unemployment_RateDF['DateTime'] = pd.to_datetime(Unemployment_RateDF['DateTime'])\n",
    "# filter rows on the basis of date\n",
    "Unemployment_RateDF = Unemployment_RateDF[((Unemployment_RateDF['DateTime'] > '01/01/2012') & (Unemployment_RateDF['DateTime'] <= '12/31/2021'))]\n",
    "# calculate difference of Value column and add new column\n",
    "Unemployment_RateDF['Value Difference'] = Unemployment_RateDF['Value'].diff()\n",
    "print (Unemployment_RateDF)\n",
    "Unemployment_Rate = './Resources/Unemployment_Rate.csv'\n",
    "Unemployment_RateDF.to_csv(Unemployment_Rate, index=False)"
   ]
  },
  {
   "cell_type": "code",
   "execution_count": null,
   "id": "6f4f998a",
   "metadata": {},
   "outputs": [],
   "source": []
  },
  {
   "cell_type": "code",
   "execution_count": null,
   "id": "f6d050f6",
   "metadata": {},
   "outputs": [],
   "source": []
  },
  {
   "cell_type": "code",
   "execution_count": null,
   "id": "43ca14d6",
   "metadata": {},
   "outputs": [],
   "source": []
  },
  {
   "cell_type": "code",
   "execution_count": null,
   "id": "314c650f",
   "metadata": {},
   "outputs": [],
   "source": []
  }
 ],
 "metadata": {
  "kernelspec": {
   "display_name": "Python 3",
   "language": "python",
   "name": "python3"
  },
  "language_info": {
   "codemirror_mode": {
    "name": "ipython",
    "version": 3
   },
   "file_extension": ".py",
   "mimetype": "text/x-python",
   "name": "python",
   "nbconvert_exporter": "python",
   "pygments_lexer": "ipython3",
   "version": "3.8.8"
  }
 },
 "nbformat": 4,
 "nbformat_minor": 5
}
