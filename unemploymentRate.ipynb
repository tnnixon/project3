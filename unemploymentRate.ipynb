{
 "cells": [
  {
   "cell_type": "code",
   "execution_count": 1,
   "id": "82663ee9",
   "metadata": {},
   "outputs": [],
   "source": [
    "import pandas as pd\n",
    "\n",
    "import sqlalchemy\n",
    "from sqlalchemy.ext.automap import automap_base\n",
    "from sqlalchemy.orm import Session\n",
    "from sqlalchemy import create_engine, inspect\n",
    "from sqlalchemy.exc import IntegrityError\n",
    "\n",
    "\n",
    "from datetime import datetime\n",
    "import math"
   ]
  },
  {
   "cell_type": "code",
   "execution_count": 2,
   "id": "55b5bfcb",
   "metadata": {
    "scrolled": true
   },
   "outputs": [
    {
     "name": "stdout",
     "output_type": "stream",
     "text": [
      "              Category   DateTime  Value  Value Difference\n",
      "60   Unemployment Rate 2017-01-31    4.7               NaN\n",
      "61   Unemployment Rate 2017-02-28    4.6              -0.1\n",
      "62   Unemployment Rate 2017-03-31    4.4              -0.2\n",
      "63   Unemployment Rate 2017-04-30    4.4               0.0\n",
      "64   Unemployment Rate 2017-05-31    4.4               0.0\n",
      "65   Unemployment Rate 2017-06-30    4.3              -0.1\n",
      "66   Unemployment Rate 2017-07-31    4.3               0.0\n",
      "67   Unemployment Rate 2017-08-31    4.4               0.1\n",
      "68   Unemployment Rate 2017-09-30    4.3              -0.1\n",
      "69   Unemployment Rate 2017-10-31    4.2              -0.1\n",
      "70   Unemployment Rate 2017-11-30    4.2               0.0\n",
      "71   Unemployment Rate 2017-12-31    4.1              -0.1\n",
      "72   Unemployment Rate 2018-01-31    4.0              -0.1\n",
      "73   Unemployment Rate 2018-02-28    4.1               0.1\n",
      "74   Unemployment Rate 2018-03-31    4.0              -0.1\n",
      "75   Unemployment Rate 2018-04-30    4.0               0.0\n",
      "76   Unemployment Rate 2018-05-31    3.8              -0.2\n",
      "77   Unemployment Rate 2018-06-30    4.0               0.2\n",
      "78   Unemployment Rate 2018-07-31    3.8              -0.2\n",
      "79   Unemployment Rate 2018-08-31    3.8               0.0\n",
      "80   Unemployment Rate 2018-09-30    3.7              -0.1\n",
      "81   Unemployment Rate 2018-10-31    3.8               0.1\n",
      "82   Unemployment Rate 2018-11-30    3.8               0.0\n",
      "83   Unemployment Rate 2018-12-31    3.9               0.1\n",
      "84   Unemployment Rate 2019-01-31    4.0               0.1\n",
      "85   Unemployment Rate 2019-02-28    3.8              -0.2\n",
      "86   Unemployment Rate 2019-03-31    3.8               0.0\n",
      "87   Unemployment Rate 2019-04-30    3.6              -0.2\n",
      "88   Unemployment Rate 2019-05-31    3.6               0.0\n",
      "89   Unemployment Rate 2019-06-30    3.6               0.0\n",
      "90   Unemployment Rate 2019-07-31    3.7               0.1\n",
      "91   Unemployment Rate 2019-08-31    3.7               0.0\n",
      "92   Unemployment Rate 2019-09-30    3.5              -0.2\n",
      "93   Unemployment Rate 2019-10-31    3.6               0.1\n",
      "94   Unemployment Rate 2019-11-30    3.6               0.0\n",
      "95   Unemployment Rate 2019-12-31    3.6               0.0\n",
      "96   Unemployment Rate 2020-01-31    3.5              -0.1\n",
      "97   Unemployment Rate 2020-02-29    3.5               0.0\n",
      "98   Unemployment Rate 2020-03-31    4.4               0.9\n",
      "99   Unemployment Rate 2020-04-30   14.7              10.3\n",
      "100  Unemployment Rate 2020-05-31   13.2              -1.5\n",
      "101  Unemployment Rate 2020-06-30   11.0              -2.2\n",
      "102  Unemployment Rate 2020-07-31   10.2              -0.8\n",
      "103  Unemployment Rate 2020-08-31    8.4              -1.8\n",
      "104  Unemployment Rate 2020-09-30    7.9              -0.5\n",
      "105  Unemployment Rate 2020-10-31    6.9              -1.0\n",
      "106  Unemployment Rate 2020-11-30    6.7              -0.2\n",
      "107  Unemployment Rate 2020-12-31    6.7               0.0\n",
      "108  Unemployment Rate 2021-01-31    6.4              -0.3\n",
      "109  Unemployment Rate 2021-02-28    6.2              -0.2\n",
      "110  Unemployment Rate 2021-03-31    6.0              -0.2\n",
      "111  Unemployment Rate 2021-04-30    6.0               0.0\n",
      "112  Unemployment Rate 2021-05-31    5.8              -0.2\n",
      "113  Unemployment Rate 2021-06-30    5.9               0.1\n",
      "114  Unemployment Rate 2021-07-31    5.4              -0.5\n",
      "115  Unemployment Rate 2021-08-31    5.2              -0.2\n",
      "116  Unemployment Rate 2021-09-30    4.7              -0.5\n",
      "117  Unemployment Rate 2021-10-31    4.6              -0.1\n",
      "118  Unemployment Rate 2021-11-30    4.2              -0.4\n",
      "119  Unemployment Rate 2021-12-31    3.9              -0.3\n"
     ]
    }
   ],
   "source": [
    "# read in the master counties data, create a DataFrame, create new 'county_state' column\n",
    "path = './Resources/Unemployment_Rate.csv'\n",
    "Unemployment_RateDF = pd.read_csv(path)\n",
    "keep_col = ['Category','DateTime','Value']\n",
    "Unemployment_RateDF = Unemployment_RateDF[keep_col].drop_duplicates(keep='first')\n",
    "# convert date column into date format\n",
    "Unemployment_RateDF['DateTime'] = pd.to_datetime(Unemployment_RateDF['DateTime'])\n",
    "# filter rows on the basis of date\n",
    "Unemployment_RateDF = Unemployment_RateDF[((Unemployment_RateDF['DateTime'] > '01/01/2017') & (Unemployment_RateDF['DateTime'] <= '12/31/2021'))]\n",
    "# calculate difference of Value column and add new column\n",
    "Unemployment_RateDF['Value Difference'] = Unemployment_RateDF['Value'].diff()\n",
    "print (Unemployment_RateDF)\n",
    "Unemployment_Rate = './Resources/Unemployment_Rate.csv'\n",
    "Unemployment_RateDF.to_csv(Unemployment_Rate, index=False)"
   ]
  },
  {
   "cell_type": "code",
   "execution_count": null,
   "id": "6f4f998a",
   "metadata": {},
   "outputs": [],
   "source": []
  },
  {
   "cell_type": "code",
   "execution_count": null,
   "id": "f6d050f6",
   "metadata": {},
   "outputs": [],
   "source": []
  },
  {
   "cell_type": "code",
   "execution_count": null,
   "id": "43ca14d6",
   "metadata": {},
   "outputs": [],
   "source": []
  },
  {
   "cell_type": "code",
   "execution_count": null,
   "id": "314c650f",
   "metadata": {},
   "outputs": [],
   "source": []
  }
 ],
 "metadata": {
  "kernelspec": {
   "display_name": "Python 3",
   "language": "python",
   "name": "python3"
  },
  "language_info": {
   "codemirror_mode": {
    "name": "ipython",
    "version": 3
   },
   "file_extension": ".py",
   "mimetype": "text/x-python",
   "name": "python",
   "nbconvert_exporter": "python",
   "pygments_lexer": "ipython3",
   "version": "3.8.8"
  }
 },
 "nbformat": 4,
 "nbformat_minor": 5
}
