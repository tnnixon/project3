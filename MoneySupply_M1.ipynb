{
 "cells": [
  {
   "cell_type": "code",
   "execution_count": 1,
   "id": "82663ee9",
   "metadata": {},
   "outputs": [],
   "source": [
    "import pandas as pd\n",
    "\n",
    "import sqlalchemy\n",
    "from sqlalchemy.ext.automap import automap_base\n",
    "from sqlalchemy.orm import Session\n",
    "from sqlalchemy import create_engine, inspect\n",
    "from sqlalchemy.exc import IntegrityError\n",
    "\n",
    "\n",
    "from datetime import datetime\n",
    "import math"
   ]
  },
  {
   "cell_type": "code",
   "execution_count": 2,
   "id": "55b5bfcb",
   "metadata": {
    "scrolled": true
   },
   "outputs": [
    {
     "name": "stdout",
     "output_type": "stream",
     "text": [
      "            Category   DateTime    Value  Value Difference\n",
      "636  Money Supply M1 2012-01-31   2201.9               NaN\n",
      "637  Money Supply M1 2012-02-29   2209.9               8.0\n",
      "638  Money Supply M1 2012-03-31   2228.8              18.9\n",
      "639  Money Supply M1 2012-04-30   2248.1              19.3\n",
      "640  Money Supply M1 2012-05-31   2256.6               8.5\n",
      "..               ...        ...      ...               ...\n",
      "750  Money Supply M1 2021-07-31  19401.7             163.5\n",
      "751  Money Supply M1 2021-08-31  19677.7             276.0\n",
      "752  Money Supply M1 2021-09-30  19862.2             184.5\n",
      "753  Money Supply M1 2021-10-31  20083.1             220.9\n",
      "754  Money Supply M1 2021-11-30  20345.0             261.9\n",
      "\n",
      "[119 rows x 4 columns]\n"
     ]
    }
   ],
   "source": [
    "# read in the master counties data, create a DataFrame, create new 'county_state' column\n",
    "path = './Resources/Money_Supply_M1.csv'\n",
    "MoneySupply_1DF = pd.read_csv(path)\n",
    "keep_col = ['Category','DateTime','Value']\n",
    "MoneySupply_1DF = MoneySupply_1DF[keep_col].drop_duplicates(keep='first')\n",
    "# convert date column into date format\n",
    "MoneySupply_1DF['DateTime'] = pd.to_datetime(MoneySupply_1DF['DateTime'])\n",
    "# filter rows on the basis of date\n",
    "MoneySupply_1DF = MoneySupply_1DF[((MoneySupply_1DF['DateTime'] > '01/01/2012') & (MoneySupply_1DF['DateTime'] <= '12/31/2021'))]\n",
    "# calculate difference of Value column and add new column\n",
    "MoneySupply_1DF['Value Difference'] = MoneySupply_1DF['Value'].diff()\n",
    "print (MoneySupply_1DF)\n",
    "MoneySupply1 = './Resources/Money_Supply_M1.csv'\n",
    "MoneySupply_1DF.to_csv(MoneySupply1, index=False)"
   ]
  },
  {
   "cell_type": "code",
   "execution_count": null,
   "id": "6f4f998a",
   "metadata": {},
   "outputs": [],
   "source": []
  },
  {
   "cell_type": "code",
   "execution_count": null,
   "id": "f6d050f6",
   "metadata": {},
   "outputs": [],
   "source": []
  },
  {
   "cell_type": "code",
   "execution_count": null,
   "id": "43ca14d6",
   "metadata": {},
   "outputs": [],
   "source": []
  },
  {
   "cell_type": "code",
   "execution_count": null,
   "id": "314c650f",
   "metadata": {},
   "outputs": [],
   "source": []
  }
 ],
 "metadata": {
  "kernelspec": {
   "display_name": "Python 3",
   "language": "python",
   "name": "python3"
  },
  "language_info": {
   "codemirror_mode": {
    "name": "ipython",
    "version": 3
   },
   "file_extension": ".py",
   "mimetype": "text/x-python",
   "name": "python",
   "nbconvert_exporter": "python",
   "pygments_lexer": "ipython3",
   "version": "3.8.8"
  }
 },
 "nbformat": 4,
 "nbformat_minor": 5
}
