{
 "cells": [
  {
   "cell_type": "code",
   "execution_count": 1,
   "id": "82663ee9",
   "metadata": {},
   "outputs": [],
   "source": [
    "import pandas as pd\n",
    "\n",
    "import sqlalchemy\n",
    "from sqlalchemy.ext.automap import automap_base\n",
    "from sqlalchemy.orm import Session\n",
    "from sqlalchemy import create_engine, inspect\n",
    "from sqlalchemy.exc import IntegrityError\n",
    "\n",
    "\n",
    "from datetime import datetime\n",
    "import math"
   ]
  },
  {
   "cell_type": "code",
   "execution_count": 2,
   "id": "55b5bfcb",
   "metadata": {
    "scrolled": true
   },
   "outputs": [
    {
     "name": "stdout",
     "output_type": "stream",
     "text": [
      "           Category   DateTime  Value  Value Difference\n",
      "0    Inflation Rate 2012-01-31    2.9               NaN\n",
      "1    Inflation Rate 2012-02-29    2.9               0.0\n",
      "2    Inflation Rate 2012-03-31    2.7              -0.2\n",
      "3    Inflation Rate 2012-04-30    2.3              -0.4\n",
      "4    Inflation Rate 2012-05-31    1.7              -0.6\n",
      "..              ...        ...    ...               ...\n",
      "114  Inflation Rate 2021-07-31    5.4               0.0\n",
      "115  Inflation Rate 2021-08-31    5.3              -0.1\n",
      "116  Inflation Rate 2021-09-30    5.4               0.1\n",
      "117  Inflation Rate 2021-10-31    6.2               0.8\n",
      "118  Inflation Rate 2021-11-30    6.8               0.6\n",
      "\n",
      "[119 rows x 4 columns]\n"
     ]
    }
   ],
   "source": [
    "# read in the master counties data, create a DataFrame, create new 'county_state' column\n",
    "path = './Resources/Inflation_Rate.csv'\n",
    "Inflation_RateDF = pd.read_csv(path)\n",
    "keep_col = ['Category','DateTime','Value']\n",
    "Inflation_RateDF = Inflation_RateDF[keep_col].drop_duplicates(keep='first')\n",
    "# convert date column into date format\n",
    "Inflation_RateDF['DateTime'] = pd.to_datetime(Inflation_RateDF['DateTime'])\n",
    "# filter rows on the basis of date\n",
    "Inflation_RateDF = Inflation_RateDF[((Inflation_RateDF['DateTime'] > '01/01/2012') & (Inflation_RateDF['DateTime'] <= '12/31/2021'))]\n",
    "# calculate difference of Value column and add new column\n",
    "Inflation_RateDF['Value Difference'] = Inflation_RateDF['Value'].diff()\n",
    "print (Inflation_RateDF)\n",
    "Inflation_Rate = './Resources/inflation_rate.csv'\n",
    "Inflation_RateDF.to_csv(Inflation_Rate, index=False)"
   ]
  },
  {
   "cell_type": "code",
   "execution_count": null,
   "id": "6f4f998a",
   "metadata": {},
   "outputs": [],
   "source": []
  },
  {
   "cell_type": "code",
   "execution_count": null,
   "id": "f6d050f6",
   "metadata": {},
   "outputs": [],
   "source": []
  },
  {
   "cell_type": "code",
   "execution_count": null,
   "id": "43ca14d6",
   "metadata": {},
   "outputs": [],
   "source": []
  },
  {
   "cell_type": "code",
   "execution_count": null,
   "id": "314c650f",
   "metadata": {},
   "outputs": [],
   "source": []
  }
 ],
 "metadata": {
  "kernelspec": {
   "display_name": "Python 3",
   "language": "python",
   "name": "python3"
  },
  "language_info": {
   "codemirror_mode": {
    "name": "ipython",
    "version": 3
   },
   "file_extension": ".py",
   "mimetype": "text/x-python",
   "name": "python",
   "nbconvert_exporter": "python",
   "pygments_lexer": "ipython3",
   "version": "3.8.8"
  }
 },
 "nbformat": 4,
 "nbformat_minor": 5
}
