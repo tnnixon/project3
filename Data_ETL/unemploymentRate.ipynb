{
 "cells": [
  {
   "cell_type": "code",
   "execution_count": 1,
   "id": "82663ee9",
   "metadata": {},
   "outputs": [],
   "source": [
    "import pandas as pd\n",
    "\n",
    "import sqlalchemy\n",
    "from sqlalchemy.ext.automap import automap_base\n",
    "from sqlalchemy.orm import Session\n",
    "from sqlalchemy import create_engine, inspect\n",
    "from sqlalchemy.exc import IntegrityError\n",
    "\n",
    "\n",
    "from datetime import datetime\n",
    "import math"
   ]
  },
  {
   "cell_type": "code",
   "execution_count": 2,
   "id": "55b5bfcb",
   "metadata": {
    "scrolled": true
   },
   "outputs": [
    {
     "name": "stdout",
     "output_type": "stream",
     "text": [
      "              Category   DateTime  Value  Value Difference\n",
      "828  Unemployment Rate 2017-01-31    4.7               NaN\n",
      "829  Unemployment Rate 2017-02-28    4.6              -0.1\n",
      "830  Unemployment Rate 2017-03-31    4.4              -0.2\n",
      "831  Unemployment Rate 2017-04-30    4.4               0.0\n",
      "832  Unemployment Rate 2017-05-31    4.4               0.0\n",
      "833  Unemployment Rate 2017-06-30    4.3              -0.1\n",
      "834  Unemployment Rate 2017-07-31    4.3               0.0\n",
      "835  Unemployment Rate 2017-08-31    4.4               0.1\n",
      "836  Unemployment Rate 2017-09-30    4.3              -0.1\n",
      "837  Unemployment Rate 2017-10-31    4.2              -0.1\n",
      "838  Unemployment Rate 2017-11-30    4.2               0.0\n",
      "839  Unemployment Rate 2017-12-31    4.1              -0.1\n",
      "840  Unemployment Rate 2018-01-31    4.0              -0.1\n",
      "841  Unemployment Rate 2018-02-28    4.1               0.1\n",
      "842  Unemployment Rate 2018-03-31    4.0              -0.1\n",
      "843  Unemployment Rate 2018-04-30    4.0               0.0\n",
      "844  Unemployment Rate 2018-05-31    3.8              -0.2\n",
      "845  Unemployment Rate 2018-06-30    4.0               0.2\n",
      "846  Unemployment Rate 2018-07-31    3.8              -0.2\n",
      "847  Unemployment Rate 2018-08-31    3.8               0.0\n",
      "848  Unemployment Rate 2018-09-30    3.7              -0.1\n",
      "849  Unemployment Rate 2018-10-31    3.8               0.1\n",
      "850  Unemployment Rate 2018-11-30    3.8               0.0\n",
      "851  Unemployment Rate 2018-12-31    3.9               0.1\n",
      "852  Unemployment Rate 2019-01-31    4.0               0.1\n",
      "853  Unemployment Rate 2019-02-28    3.8              -0.2\n",
      "854  Unemployment Rate 2019-03-31    3.8               0.0\n",
      "855  Unemployment Rate 2019-04-30    3.6              -0.2\n",
      "856  Unemployment Rate 2019-05-31    3.6               0.0\n",
      "857  Unemployment Rate 2019-06-30    3.6               0.0\n",
      "858  Unemployment Rate 2019-07-31    3.7               0.1\n",
      "859  Unemployment Rate 2019-08-31    3.7               0.0\n",
      "860  Unemployment Rate 2019-09-30    3.5              -0.2\n",
      "861  Unemployment Rate 2019-10-31    3.6               0.1\n",
      "862  Unemployment Rate 2019-11-30    3.6               0.0\n",
      "863  Unemployment Rate 2019-12-31    3.6               0.0\n",
      "864  Unemployment Rate 2020-01-31    3.5              -0.1\n",
      "865  Unemployment Rate 2020-02-29    3.5               0.0\n",
      "866  Unemployment Rate 2020-03-31    4.4               0.9\n",
      "867  Unemployment Rate 2020-04-30   14.7              10.3\n",
      "868  Unemployment Rate 2020-05-31   13.2              -1.5\n",
      "869  Unemployment Rate 2020-06-30   11.0              -2.2\n",
      "870  Unemployment Rate 2020-07-31   10.2              -0.8\n",
      "871  Unemployment Rate 2020-08-31    8.4              -1.8\n",
      "872  Unemployment Rate 2020-09-30    7.9              -0.5\n",
      "873  Unemployment Rate 2020-10-31    6.9              -1.0\n",
      "874  Unemployment Rate 2020-11-30    6.7              -0.2\n",
      "875  Unemployment Rate 2020-12-31    6.7               0.0\n",
      "876  Unemployment Rate 2021-01-31    6.4              -0.3\n",
      "877  Unemployment Rate 2021-02-28    6.2              -0.2\n",
      "878  Unemployment Rate 2021-03-31    6.0              -0.2\n",
      "879  Unemployment Rate 2021-04-30    6.0               0.0\n",
      "880  Unemployment Rate 2021-05-31    5.8              -0.2\n",
      "881  Unemployment Rate 2021-06-30    5.9               0.1\n",
      "882  Unemployment Rate 2021-07-31    5.4              -0.5\n",
      "883  Unemployment Rate 2021-08-31    5.2              -0.2\n",
      "884  Unemployment Rate 2021-09-30    4.7              -0.5\n",
      "885  Unemployment Rate 2021-10-31    4.6              -0.1\n",
      "886  Unemployment Rate 2021-11-30    4.2              -0.4\n",
      "887  Unemployment Rate 2021-12-31    3.9              -0.3\n"
     ]
    }
   ],
   "source": [
    "# read in the master counties data, create a DataFrame, create new 'county_state' column\n",
    "path = './Resources/Unemployment_Rate.csv'\n",
    "Unemployment_RateDF = pd.read_csv(path)\n",
    "keep_col = ['Category','DateTime','Value']\n",
    "Unemployment_RateDF = Unemployment_RateDF[keep_col].drop_duplicates(keep='first')\n",
    "# convert date column into date format\n",
    "Unemployment_RateDF['DateTime'] = pd.to_datetime(Unemployment_RateDF['DateTime'])\n",
    "# filter rows on the basis of date\n",
    "Unemployment_RateDF = Unemployment_RateDF[((Unemployment_RateDF['DateTime'] > '01/01/2017') & (Unemployment_RateDF['DateTime'] <= '12/31/2021'))]\n",
    "# calculate difference of Value column and add new column\n",
    "Unemployment_RateDF['Value Difference'] = Unemployment_RateDF['Value'].diff()\n",
    "print (Unemployment_RateDF)\n",
    "Unemployment_Rate = './c_Unemployment_Rate.csv'\n",
    "Unemployment_RateDF.to_csv(Unemployment_Rate, index=False)"
   ]
  },
  {
   "cell_type": "code",
   "execution_count": null,
   "id": "6f4f998a",
   "metadata": {},
   "outputs": [],
   "source": []
  },
  {
   "cell_type": "code",
   "execution_count": null,
   "id": "f6d050f6",
   "metadata": {},
   "outputs": [],
   "source": []
  },
  {
   "cell_type": "code",
   "execution_count": null,
   "id": "43ca14d6",
   "metadata": {},
   "outputs": [],
   "source": []
  },
  {
   "cell_type": "code",
   "execution_count": null,
   "id": "314c650f",
   "metadata": {},
   "outputs": [],
   "source": []
  }
 ],
 "metadata": {
  "kernelspec": {
   "display_name": "Python 3",
   "language": "python",
   "name": "python3"
  },
  "language_info": {
   "codemirror_mode": {
    "name": "ipython",
    "version": 3
   },
   "file_extension": ".py",
   "mimetype": "text/x-python",
   "name": "python",
   "nbconvert_exporter": "python",
   "pygments_lexer": "ipython3",
   "version": "3.8.8"
  }
 },
 "nbformat": 4,
 "nbformat_minor": 5
}
