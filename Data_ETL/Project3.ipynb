{
 "cells": [
  {
   "cell_type": "code",
   "execution_count": 1,
   "id": "82663ee9",
   "metadata": {},
   "outputs": [],
   "source": [
    "import pandas as pd\n",
    "\n",
    "import sqlalchemy\n",
    "from sqlalchemy.ext.automap import automap_base\n",
    "from sqlalchemy.orm import Session\n",
    "from sqlalchemy import create_engine, inspect\n",
    "from sqlalchemy.exc import IntegrityError\n",
    "import csv\n",
    "\n",
    "\n",
    "from datetime import datetime\n",
    "import math"
   ]
  },
  {
   "cell_type": "code",
   "execution_count": 2,
   "id": "55b5bfcb",
   "metadata": {},
   "outputs": [],
   "source": [
    "# read in DJIA csv and create DataFrame\n",
    "path = './Resources/DJIA.csv'\n",
    "DJIAdf = pd.read_csv(path)\n",
    "DJIAdf = DJIAdf.drop_duplicates(keep='first')\n",
    "# convert date column into date format\n",
    "DJIAdf['date'] = pd.to_datetime(DJIAdf['date'])\n",
    "# filter rows on the basis of date\n",
    "DJIAdf = DJIAdf[((DJIAdf['date'] > '01/01/2017') & (DJIAdf['date'] <= '12/31/2021'))]\n",
    "# calculate difference of Value column and add new column\n",
    "DJIAdf['Value Difference'] = DJIAdf['value'].diff()\n",
    "DJIA = './c_DJIA.csv'\n",
    "DJIAdf.to_csv(DJIA, index=False)"
   ]
  },
  {
   "cell_type": "code",
   "execution_count": 3,
   "id": "607398ff",
   "metadata": {},
   "outputs": [],
   "source": [
    "# create new csv file housing DJIA monthly average\n",
    "DJIAMoAvg = DJIAdf.groupby(pd.PeriodIndex(DJIAdf['date'], freq=\"M\"))['value'].mean()\n",
    "DJIAMoAvg\n",
    "DJIAMoAvg.to_csv('./c_DJIAmonthlyAVG.csv', index=True)"
   ]
  },
  {
   "cell_type": "code",
   "execution_count": 5,
   "id": "c2b23d9b",
   "metadata": {},
   "outputs": [
    {
     "data": {
      "text/html": [
       "<div>\n",
       "<style scoped>\n",
       "    .dataframe tbody tr th:only-of-type {\n",
       "        vertical-align: middle;\n",
       "    }\n",
       "\n",
       "    .dataframe tbody tr th {\n",
       "        vertical-align: top;\n",
       "    }\n",
       "\n",
       "    .dataframe thead th {\n",
       "        text-align: right;\n",
       "    }\n",
       "</style>\n",
       "<table border=\"1\" class=\"dataframe\">\n",
       "  <thead>\n",
       "    <tr style=\"text-align: right;\">\n",
       "      <th></th>\n",
       "      <th>symbol</th>\n",
       "      <th>date</th>\n",
       "      <th>value</th>\n",
       "    </tr>\n",
       "  </thead>\n",
       "  <tbody>\n",
       "    <tr>\n",
       "      <th>0</th>\n",
       "      <td>erntsldsoq176n</td>\n",
       "      <td>2000-04-01T00:00:00</td>\n",
       "      <td>355</td>\n",
       "    </tr>\n",
       "    <tr>\n",
       "      <th>1</th>\n",
       "      <td>erntsldsoq176n</td>\n",
       "      <td>2000-07-01T00:00:00</td>\n",
       "      <td>365</td>\n",
       "    </tr>\n",
       "    <tr>\n",
       "      <th>2</th>\n",
       "      <td>erntsldsoq176n</td>\n",
       "      <td>2000-10-01T00:00:00</td>\n",
       "      <td>288</td>\n",
       "    </tr>\n",
       "    <tr>\n",
       "      <th>3</th>\n",
       "      <td>erntsldsoq176n</td>\n",
       "      <td>2001-01-01T00:00:00</td>\n",
       "      <td>308</td>\n",
       "    </tr>\n",
       "    <tr>\n",
       "      <th>4</th>\n",
       "      <td>erntsldsoq176n</td>\n",
       "      <td>2001-04-01T00:00:00</td>\n",
       "      <td>395</td>\n",
       "    </tr>\n",
       "  </tbody>\n",
       "</table>\n",
       "</div>"
      ],
      "text/plain": [
       "           symbol                 date  value\n",
       "0  erntsldsoq176n  2000-04-01T00:00:00    355\n",
       "1  erntsldsoq176n  2000-07-01T00:00:00    365\n",
       "2  erntsldsoq176n  2000-10-01T00:00:00    288\n",
       "3  erntsldsoq176n  2001-01-01T00:00:00    308\n",
       "4  erntsldsoq176n  2001-04-01T00:00:00    395"
      ]
     },
     "execution_count": 5,
     "metadata": {},
     "output_type": "execute_result"
    }
   ],
   "source": [
    "# read in Housing_Inventory​ csv and create DataFrame\n",
    "path = './Resources/Housing_Inventory.csv'\n",
    "Housing_Inventorydf = pd.read_csv(path)\n",
    "Housing_Inventorydf.head()"
   ]
  },
  {
   "cell_type": "code",
   "execution_count": 6,
   "id": "95448c44",
   "metadata": {},
   "outputs": [],
   "source": [
    "\n",
    "Housing_Inventorydf = Housing_Inventorydf.drop_duplicates(keep='first')\n",
    "# convert date column into date format\n",
    "Housing_Inventorydf['date'] = pd.to_datetime(Housing_Inventorydf['date'])\n",
    "# filter rows on the basis of date\n",
    "Housing_Inventorydf = Housing_Inventorydf[((Housing_Inventorydf['date'] > '01/01/2017') & (Housing_Inventorydf['date'] <= '12/31/2021'))]\n",
    "#calculate difference of Value column and add new column\n",
    "Housing_Inventorydf['Value Difference'] = Housing_Inventorydf['value'].diff()\n",
    "Housing_Inventory = './c_Housing_Inventory.csv'\n",
    "Housing_Inventorydf.to_csv(Housing_Inventory, index=False)"
   ]
  },
  {
   "cell_type": "code",
   "execution_count": null,
   "id": "6f4f998a",
   "metadata": {},
   "outputs": [],
   "source": []
  },
  {
   "cell_type": "code",
   "execution_count": null,
   "id": "f6d050f6",
   "metadata": {},
   "outputs": [],
   "source": []
  },
  {
   "cell_type": "code",
   "execution_count": null,
   "id": "43ca14d6",
   "metadata": {},
   "outputs": [],
   "source": []
  },
  {
   "cell_type": "code",
   "execution_count": null,
   "id": "314c650f",
   "metadata": {},
   "outputs": [],
   "source": []
  },
  {
   "cell_type": "code",
   "execution_count": null,
   "id": "0eef5ba1",
   "metadata": {},
   "outputs": [],
   "source": []
  }
 ],
 "metadata": {
  "kernelspec": {
   "display_name": "Python 3",
   "language": "python",
   "name": "python3"
  },
  "language_info": {
   "codemirror_mode": {
    "name": "ipython",
    "version": 3
   },
   "file_extension": ".py",
   "mimetype": "text/x-python",
   "name": "python",
   "nbconvert_exporter": "python",
   "pygments_lexer": "ipython3",
   "version": "3.8.8"
  }
 },
 "nbformat": 4,
 "nbformat_minor": 5
}
