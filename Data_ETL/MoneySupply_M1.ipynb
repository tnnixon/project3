{
 "cells": [
  {
   "cell_type": "code",
   "execution_count": 1,
   "id": "82663ee9",
   "metadata": {},
   "outputs": [],
   "source": [
    "import pandas as pd\n",
    "\n",
    "import sqlalchemy\n",
    "from sqlalchemy.ext.automap import automap_base\n",
    "from sqlalchemy.orm import Session\n",
    "from sqlalchemy import create_engine, inspect\n",
    "from sqlalchemy.exc import IntegrityError\n",
    "\n",
    "\n",
    "from datetime import datetime\n",
    "import math"
   ]
  },
  {
   "cell_type": "code",
   "execution_count": 2,
   "id": "55b5bfcb",
   "metadata": {
    "scrolled": true
   },
   "outputs": [
    {
     "name": "stdout",
     "output_type": "stream",
     "text": [
      "            Category   DateTime    Value  Value Difference\n",
      "60   Money Supply M1 2017-01-31   3398.2               NaN\n",
      "61   Money Supply M1 2017-02-28   3411.3              13.1\n",
      "62   Money Supply M1 2017-03-31   3456.2              44.9\n",
      "63   Money Supply M1 2017-04-30   3450.1              -6.1\n",
      "64   Money Supply M1 2017-05-31   3512.8              62.7\n",
      "65   Money Supply M1 2017-06-30   3520.9               8.1\n",
      "66   Money Supply M1 2017-07-31   3541.8              20.9\n",
      "67   Money Supply M1 2017-08-31   3580.3              38.5\n",
      "68   Money Supply M1 2017-09-30   3563.4             -16.9\n",
      "69   Money Supply M1 2017-10-31   3601.2              37.8\n",
      "70   Money Supply M1 2017-11-30   3631.9              30.7\n",
      "71   Money Supply M1 2017-12-31   3618.9             -13.0\n",
      "72   Money Supply M1 2018-01-31   3668.4              49.5\n",
      "73   Money Supply M1 2018-02-28   3633.9             -34.5\n",
      "74   Money Supply M1 2018-03-31   3672.5              38.6\n",
      "75   Money Supply M1 2018-04-30   3653.6             -18.9\n",
      "76   Money Supply M1 2018-05-31   3646.2              -7.4\n",
      "77   Money Supply M1 2018-06-30   3644.7              -1.5\n",
      "78   Money Supply M1 2018-07-31   3669.2              24.5\n",
      "79   Money Supply M1 2018-08-31   3682.7              13.5\n",
      "80   Money Supply M1 2018-09-30   3692.3               9.6\n",
      "81   Money Supply M1 2018-10-31   3721.5              29.2\n",
      "82   Money Supply M1 2018-11-30   3708.4             -13.1\n",
      "83   Money Supply M1 2018-12-31   3771.2              62.8\n",
      "84   Money Supply M1 2019-01-31   3772.9               1.7\n",
      "85   Money Supply M1 2019-02-28   3783.4              10.5\n",
      "86   Money Supply M1 2019-03-31   3746.4             -37.0\n",
      "87   Money Supply M1 2019-04-30   3770.6              24.2\n",
      "88   Money Supply M1 2019-05-31   3775.4               4.8\n",
      "89   Money Supply M1 2019-06-30   3813.4              38.0\n",
      "90   Money Supply M1 2019-07-31   3844.8              31.4\n",
      "91   Money Supply M1 2019-08-31   3844.0              -0.8\n",
      "92   Money Supply M1 2019-09-30   3887.7              43.7\n",
      "93   Money Supply M1 2019-10-31   3926.1              38.4\n",
      "94   Money Supply M1 2019-11-30   3955.6              29.5\n",
      "95   Money Supply M1 2019-12-31   4011.2              55.6\n",
      "96   Money Supply M1 2020-01-31   4019.2               8.0\n",
      "97   Money Supply M1 2020-02-29   4028.4               9.2\n",
      "98   Money Supply M1 2020-03-31   4281.3             252.9\n",
      "99   Money Supply M1 2020-04-30   4774.4             493.1\n",
      "100  Money Supply M1 2020-05-31  16262.0           11487.6\n",
      "101  Money Supply M1 2020-06-30  16583.8             321.8\n",
      "102  Money Supply M1 2020-07-31  16773.8             190.0\n",
      "103  Money Supply M1 2020-08-31  16887.0             113.2\n",
      "104  Money Supply M1 2020-09-30  17156.8             269.8\n",
      "105  Money Supply M1 2020-10-31  17346.8             190.0\n",
      "106  Money Supply M1 2020-11-30  17589.1             242.3\n",
      "107  Money Supply M1 2020-12-31  17812.4             223.3\n",
      "108  Money Supply M1 2021-01-31  18100.6             288.2\n",
      "109  Money Supply M1 2021-02-28  18389.4             288.8\n",
      "110  Money Supply M1 2021-03-31  18669.4             280.0\n",
      "111  Money Supply M1 2021-04-30  18915.7             246.3\n",
      "112  Money Supply M1 2021-05-31  19192.9             277.2\n",
      "113  Money Supply M1 2021-06-30  19238.2              45.3\n",
      "114  Money Supply M1 2021-07-31  19401.7             163.5\n",
      "115  Money Supply M1 2021-08-31  19677.7             276.0\n",
      "116  Money Supply M1 2021-09-30  19862.2             184.5\n",
      "117  Money Supply M1 2021-10-31  20083.1             220.9\n",
      "118  Money Supply M1 2021-11-30  20345.0             261.9\n"
     ]
    }
   ],
   "source": [
    "# read in the master counties data, create a DataFrame, create new 'county_state' column\n",
    "path = './Resources/Money_Supply_M1.csv'\n",
    "MoneySupply_1DF = pd.read_csv(path)\n",
    "keep_col = ['Category','DateTime','Value']\n",
    "MoneySupply_1DF = MoneySupply_1DF[keep_col].drop_duplicates(keep='first')\n",
    "# convert date column into date format\n",
    "MoneySupply_1DF['DateTime'] = pd.to_datetime(MoneySupply_1DF['DateTime'])\n",
    "# filter rows on the basis of date\n",
    "MoneySupply_1DF = MoneySupply_1DF[((MoneySupply_1DF['DateTime'] > '01/01/2017') & (MoneySupply_1DF['DateTime'] <= '12/31/2021'))]\n",
    "# calculate difference of Value column and add new column\n",
    "MoneySupply_1DF['Value Difference'] = MoneySupply_1DF['Value'].diff()\n",
    "print (MoneySupply_1DF)\n",
    "MoneySupply1 = './Resources/Money_Supply_M1.csv'\n",
    "MoneySupply_1DF.to_csv(MoneySupply1, index=False)"
   ]
  },
  {
   "cell_type": "code",
   "execution_count": null,
   "id": "6f4f998a",
   "metadata": {},
   "outputs": [],
   "source": []
  },
  {
   "cell_type": "code",
   "execution_count": null,
   "id": "f6d050f6",
   "metadata": {},
   "outputs": [],
   "source": []
  },
  {
   "cell_type": "code",
   "execution_count": null,
   "id": "43ca14d6",
   "metadata": {},
   "outputs": [],
   "source": []
  },
  {
   "cell_type": "code",
   "execution_count": null,
   "id": "314c650f",
   "metadata": {},
   "outputs": [],
   "source": []
  }
 ],
 "metadata": {
  "kernelspec": {
   "display_name": "Python 3",
   "language": "python",
   "name": "python3"
  },
  "language_info": {
   "codemirror_mode": {
    "name": "ipython",
    "version": 3
   },
   "file_extension": ".py",
   "mimetype": "text/x-python",
   "name": "python",
   "nbconvert_exporter": "python",
   "pygments_lexer": "ipython3",
   "version": "3.8.8"
  }
 },
 "nbformat": 4,
 "nbformat_minor": 5
}
