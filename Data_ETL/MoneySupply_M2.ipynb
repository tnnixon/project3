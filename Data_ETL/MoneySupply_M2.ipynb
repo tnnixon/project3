{
 "cells": [
  {
   "cell_type": "code",
   "execution_count": 1,
   "id": "82663ee9",
   "metadata": {},
   "outputs": [],
   "source": [
    "import pandas as pd\n",
    "\n",
    "import sqlalchemy\n",
    "from sqlalchemy.ext.automap import automap_base\n",
    "from sqlalchemy.orm import Session\n",
    "from sqlalchemy import create_engine, inspect\n",
    "from sqlalchemy.exc import IntegrityError\n",
    "\n",
    "\n",
    "from datetime import datetime\n",
    "import math"
   ]
  },
  {
   "cell_type": "code",
   "execution_count": 2,
   "id": "55b5bfcb",
   "metadata": {
    "scrolled": true
   },
   "outputs": [
    {
     "name": "stdout",
     "output_type": "stream",
     "text": [
      "            Category   DateTime    Value  Value Difference\n",
      "60   Money Supply M2 2017-01-31  13275.4               NaN\n",
      "61   Money Supply M2 2017-02-28  13341.1              65.7\n",
      "62   Money Supply M2 2017-03-31  13411.4              70.3\n",
      "63   Money Supply M2 2017-04-30  13476.8              65.4\n",
      "64   Money Supply M2 2017-05-31  13530.5              53.7\n",
      "65   Money Supply M2 2017-06-30  13558.2              27.7\n",
      "66   Money Supply M2 2017-07-31  13618.3              60.1\n",
      "67   Money Supply M2 2017-08-31  13673.8              55.5\n",
      "68   Money Supply M2 2017-09-30  13716.4              42.6\n",
      "69   Money Supply M2 2017-10-31  13769.0              52.6\n",
      "70   Money Supply M2 2017-11-30  13794.0              25.0\n",
      "71   Money Supply M2 2017-12-31  13835.7              41.7\n",
      "72   Money Supply M2 2018-01-31  13858.4              22.7\n",
      "73   Money Supply M2 2018-02-28  13892.8              34.4\n",
      "74   Money Supply M2 2018-03-31  13952.6              59.8\n",
      "75   Money Supply M2 2018-04-30  13989.1              36.5\n",
      "76   Money Supply M2 2018-05-31  14054.9              65.8\n",
      "77   Money Supply M2 2018-06-30  14120.0              65.1\n",
      "78   Money Supply M2 2018-07-31  14153.0              33.0\n",
      "79   Money Supply M2 2018-08-31  14197.0              44.0\n",
      "80   Money Supply M2 2018-09-30  14228.5              31.5\n",
      "81   Money Supply M2 2018-10-31  14235.4               6.9\n",
      "82   Money Supply M2 2018-11-30  14245.4              10.0\n",
      "83   Money Supply M2 2018-12-31  14351.8             106.4\n",
      "84   Money Supply M2 2019-01-31  14434.6              82.8\n",
      "85   Money Supply M2 2019-02-28  14464.4              29.8\n",
      "86   Money Supply M2 2019-03-31  14511.8              47.4\n",
      "87   Money Supply M2 2019-04-30  14558.3              46.5\n",
      "88   Money Supply M2 2019-05-31  14653.2              94.9\n",
      "89   Money Supply M2 2019-06-30  14780.7             127.5\n",
      "90   Money Supply M2 2019-07-31  14859.9              79.2\n",
      "91   Money Supply M2 2019-08-31  14931.2              71.3\n",
      "92   Money Supply M2 2019-09-30  15020.8              89.6\n",
      "93   Money Supply M2 2019-10-31  15153.1             132.3\n",
      "94   Money Supply M2 2019-11-30  15251.3              98.2\n",
      "95   Money Supply M2 2019-12-31  15325.8              74.5\n",
      "96   Money Supply M2 2020-01-31  15406.8              81.0\n",
      "97   Money Supply M2 2020-02-29  15470.4              63.6\n",
      "98   Money Supply M2 2020-03-31  16011.4             541.0\n",
      "99   Money Supply M2 2020-04-30  17039.1            1027.7\n",
      "100  Money Supply M2 2020-05-31  17889.2             850.1\n",
      "101  Money Supply M2 2020-06-30  18175.7             286.5\n",
      "102  Money Supply M2 2020-07-31  18316.6             140.9\n",
      "103  Money Supply M2 2020-08-31  18378.5              61.9\n",
      "104  Money Supply M2 2020-09-30  18601.6             223.1\n",
      "105  Money Supply M2 2020-10-31  18747.9             146.3\n",
      "106  Money Supply M2 2020-11-30  18958.7             210.8\n",
      "107  Money Supply M2 2020-12-31  19129.5             170.8\n",
      "108  Money Supply M2 2021-01-31  19393.1             263.6\n",
      "109  Money Supply M2 2021-02-28  19665.4             272.3\n",
      "110  Money Supply M2 2021-03-31  19913.5             248.1\n",
      "111  Money Supply M2 2021-04-30  20122.7             209.2\n",
      "112  Money Supply M2 2021-05-31  20372.4             249.7\n",
      "113  Money Supply M2 2021-06-30  20387.4              15.0\n",
      "114  Money Supply M2 2021-07-31  20534.3             146.9\n",
      "115  Money Supply M2 2021-08-31  20797.0             262.7\n",
      "116  Money Supply M2 2021-09-30  20982.9             185.9\n",
      "117  Money Supply M2 2021-10-31  21187.1             204.2\n",
      "118  Money Supply M2 2021-11-30  21436.7             249.6\n"
     ]
    }
   ],
   "source": [
    "# read in the master counties data, create a DataFrame, create new 'county_state' column\n",
    "path = './Resources/Money_Supply_M2.csv'\n",
    "MoneySupply_2DF = pd.read_csv(path)\n",
    "keep_col = ['Category','DateTime','Value']\n",
    "MoneySupply_2DF = MoneySupply_2DF[keep_col].drop_duplicates(keep='first')\n",
    "# convert date column into date format\n",
    "MoneySupply_2DF['DateTime'] = pd.to_datetime(MoneySupply_2DF['DateTime'])\n",
    "# filter rows on the basis of date\n",
    "MoneySupply_2DF = MoneySupply_2DF[((MoneySupply_2DF['DateTime'] > '01/01/2017') & (MoneySupply_2DF['DateTime'] <= '12/31/2021'))]\n",
    "# calculate difference of Value column and add new column\n",
    "MoneySupply_2DF['Value Difference'] = MoneySupply_2DF['Value'].diff()\n",
    "print (MoneySupply_2DF)\n",
    "MoneySupply2 = './Resources/Money_Supply_M2.csv'\n",
    "MoneySupply_2DF.to_csv(MoneySupply2, index=False)"
   ]
  },
  {
   "cell_type": "code",
   "execution_count": null,
   "id": "6f4f998a",
   "metadata": {},
   "outputs": [],
   "source": []
  },
  {
   "cell_type": "code",
   "execution_count": null,
   "id": "f6d050f6",
   "metadata": {},
   "outputs": [],
   "source": []
  },
  {
   "cell_type": "code",
   "execution_count": null,
   "id": "43ca14d6",
   "metadata": {},
   "outputs": [],
   "source": []
  },
  {
   "cell_type": "code",
   "execution_count": null,
   "id": "314c650f",
   "metadata": {},
   "outputs": [],
   "source": []
  }
 ],
 "metadata": {
  "kernelspec": {
   "display_name": "Python 3",
   "language": "python",
   "name": "python3"
  },
  "language_info": {
   "codemirror_mode": {
    "name": "ipython",
    "version": 3
   },
   "file_extension": ".py",
   "mimetype": "text/x-python",
   "name": "python",
   "nbconvert_exporter": "python",
   "pygments_lexer": "ipython3",
   "version": "3.8.8"
  }
 },
 "nbformat": 4,
 "nbformat_minor": 5
}
