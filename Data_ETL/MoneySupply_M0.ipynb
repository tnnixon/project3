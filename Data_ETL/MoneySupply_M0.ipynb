{
 "cells": [
  {
   "cell_type": "code",
   "execution_count": 1,
   "id": "82663ee9",
   "metadata": {},
   "outputs": [],
   "source": [
    "import pandas as pd\n",
    "\n",
    "import sqlalchemy\n",
    "from sqlalchemy.ext.automap import automap_base\n",
    "from sqlalchemy.orm import Session\n",
    "from sqlalchemy import create_engine, inspect\n",
    "from sqlalchemy.exc import IntegrityError\n",
    "\n",
    "\n",
    "from datetime import datetime\n",
    "import math"
   ]
  },
  {
   "cell_type": "code",
   "execution_count": 2,
   "id": "55b5bfcb",
   "metadata": {
    "scrolled": true
   },
   "outputs": [
    {
     "name": "stdout",
     "output_type": "stream",
     "text": [
      "            Category   DateTime    Value  Value Difference\n",
      "60   Money Supply M0 2017-01-31  3595500               NaN\n",
      "61   Money Supply M0 2017-02-28  3746400          150900.0\n",
      "62   Money Supply M0 2017-03-31  3856300          109900.0\n",
      "63   Money Supply M0 2017-04-30  3821700          -34600.0\n",
      "64   Money Supply M0 2017-05-31  3774400          -47300.0\n",
      "65   Money Supply M0 2017-06-30  3762800          -11600.0\n",
      "66   Money Supply M0 2017-07-31  3795400           32600.0\n",
      "67   Money Supply M0 2017-08-31  3910000          114600.0\n",
      "68   Money Supply M0 2017-09-30  3874500          -35500.0\n",
      "69   Money Supply M0 2017-10-31  3829900          -44600.0\n",
      "70   Money Supply M0 2017-11-30  3907700           77800.0\n",
      "71   Money Supply M0 2017-12-31  3851000          -56700.0\n",
      "72   Money Supply M0 2018-01-31  3824800          -26200.0\n",
      "73   Money Supply M0 2018-02-28  3855100           30300.0\n",
      "74   Money Supply M0 2018-03-31  3800600          -54500.0\n",
      "75   Money Supply M0 2018-04-30  3727100          -73500.0\n",
      "76   Money Supply M0 2018-05-31  3674800          -52300.0\n",
      "77   Money Supply M0 2018-06-30  3650500          -24300.0\n",
      "78   Money Supply M0 2018-07-31  3618300          -32200.0\n",
      "79   Money Supply M0 2018-08-31  3584500          -33800.0\n",
      "80   Money Supply M0 2018-09-30  3559800          -24700.0\n",
      "81   Money Supply M0 2018-10-31  3520900          -38900.0\n",
      "82   Money Supply M0 2018-11-30  3476300          -44600.0\n",
      "83   Money Supply M0 2018-12-31  3400700          -75600.0\n",
      "84   Money Supply M0 2019-01-31  3346900          -53800.0\n",
      "85   Money Supply M0 2019-02-28  3353500            6600.0\n",
      "86   Money Supply M0 2019-03-31  3381500           28000.0\n",
      "87   Money Supply M0 2019-04-30  3286700          -94800.0\n",
      "88   Money Supply M0 2019-05-31  3244500          -42200.0\n",
      "89   Money Supply M0 2019-06-30  3274800           30300.0\n",
      "90   Money Supply M0 2019-07-31  3260300          -14500.0\n",
      "91   Money Supply M0 2019-08-31  3271400           11100.0\n",
      "92   Money Supply M0 2019-09-30  3202700          -68700.0\n",
      "93   Money Supply M0 2019-10-31  3252800           50100.0\n",
      "94   Money Supply M0 2019-11-30  3315600           62800.0\n",
      "95   Money Supply M0 2019-12-31  3426500          110900.0\n",
      "96   Money Supply M0 2020-01-31  3442600           16100.0\n",
      "97   Money Supply M0 2020-02-29  3454500           11900.0\n",
      "98   Money Supply M0 2020-03-31  3883100          428600.0\n",
      "99   Money Supply M0 2020-04-30  4844900          961800.0\n",
      "100  Money Supply M0 2020-05-31  5149400          304500.0\n",
      "101  Money Supply M0 2020-06-30  5001800         -147600.0\n",
      "102  Money Supply M0 2020-07-31  4700300         -301500.0\n",
      "103  Money Supply M0 2020-08-31  4807400          107100.0\n",
      "104  Money Supply M0 2020-09-30  4880300           72900.0\n",
      "105  Money Supply M0 2020-10-31  4917100           36800.0\n",
      "106  Money Supply M0 2020-11-30  5093000          175900.0\n",
      "107  Money Supply M0 2020-12-31  5206500          113500.0\n",
      "108  Money Supply M0 2021-01-31  5248000           41500.0\n",
      "109  Money Supply M0 2021-02-28  5446800          198800.0\n",
      "110  Money Supply M0 2021-03-31  5839000          392200.0\n",
      "111  Money Supply M0 2021-04-30  6042100          203100.0\n",
      "112  Money Supply M0 2021-05-31  6041900            -200.0\n",
      "113  Money Supply M0 2021-06-30  6027100          -14800.0\n",
      "114  Money Supply M0 2021-07-31  6130300          103200.0\n",
      "115  Money Supply M0 2021-08-31  6328800          198500.0\n",
      "116  Money Supply M0 2021-09-30  6388900           60100.0\n",
      "117  Money Supply M0 2021-10-31  6331000          -57900.0\n",
      "118  Money Supply M0 2021-11-30  6394800           63800.0\n"
     ]
    }
   ],
   "source": [
    "# read in the master counties data, create a DataFrame, create new 'county_state' column\n",
    "path = './Resources/Money_Supply_M0.csv'\n",
    "MoneySupply_0DF = pd.read_csv(path)\n",
    "keep_col = ['Category','DateTime','Value']\n",
    "MoneySupply_0DF = MoneySupply_0DF[keep_col].drop_duplicates(keep='first')\n",
    "# convert date column into date format\n",
    "MoneySupply_0DF['DateTime'] = pd.to_datetime(MoneySupply_0DF['DateTime'])\n",
    "# filter rows on the basis of date\n",
    "MoneySupply_0DF = MoneySupply_0DF[((MoneySupply_0DF['DateTime'] > '01/01/2017') & (MoneySupply_0DF['DateTime'] <= '12/31/2021'))]\n",
    "# calculate difference of Value column and add new column\n",
    "MoneySupply_0DF['Value Difference'] = MoneySupply_0DF['Value'].diff()\n",
    "print (MoneySupply_0DF)\n",
    "MoneySupply0 = './Resources/Money_Supply_M0.csv'\n",
    "MoneySupply_0DF.to_csv(MoneySupply0, index=False)"
   ]
  },
  {
   "cell_type": "code",
   "execution_count": null,
   "id": "6f4f998a",
   "metadata": {},
   "outputs": [],
   "source": []
  },
  {
   "cell_type": "code",
   "execution_count": null,
   "id": "f6d050f6",
   "metadata": {},
   "outputs": [],
   "source": []
  },
  {
   "cell_type": "code",
   "execution_count": null,
   "id": "43ca14d6",
   "metadata": {},
   "outputs": [],
   "source": []
  },
  {
   "cell_type": "code",
   "execution_count": null,
   "id": "314c650f",
   "metadata": {},
   "outputs": [],
   "source": []
  }
 ],
 "metadata": {
  "kernelspec": {
   "display_name": "Python 3",
   "language": "python",
   "name": "python3"
  },
  "language_info": {
   "codemirror_mode": {
    "name": "ipython",
    "version": 3
   },
   "file_extension": ".py",
   "mimetype": "text/x-python",
   "name": "python",
   "nbconvert_exporter": "python",
   "pygments_lexer": "ipython3",
   "version": "3.8.8"
  }
 },
 "nbformat": 4,
 "nbformat_minor": 5
}
