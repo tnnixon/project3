{
 "cells": [
  {
   "cell_type": "code",
   "execution_count": 1,
   "id": "82663ee9",
   "metadata": {},
   "outputs": [],
   "source": [
    "import pandas as pd\n",
    "\n",
    "import sqlalchemy\n",
    "from sqlalchemy.ext.automap import automap_base\n",
    "from sqlalchemy.orm import Session\n",
    "from sqlalchemy import create_engine, inspect\n",
    "from sqlalchemy.exc import IntegrityError\n",
    "\n",
    "\n",
    "from datetime import datetime\n",
    "import math"
   ]
  },
  {
   "cell_type": "code",
   "execution_count": 2,
   "id": "55b5bfcb",
   "metadata": {
    "scrolled": true
   },
   "outputs": [
    {
     "name": "stdout",
     "output_type": "stream",
     "text": [
      "            Category   DateTime    Value  Value Difference\n",
      "636  Money Supply M2 2012-01-31   9730.3               NaN\n",
      "637  Money Supply M2 2012-02-29   9773.1              42.8\n",
      "638  Money Supply M2 2012-03-31   9817.8              44.7\n",
      "639  Money Supply M2 2012-04-30   9872.1              54.3\n",
      "640  Money Supply M2 2012-05-31   9903.8              31.7\n",
      "..               ...        ...      ...               ...\n",
      "750  Money Supply M2 2021-07-31  20534.3             146.9\n",
      "751  Money Supply M2 2021-08-31  20797.0             262.7\n",
      "752  Money Supply M2 2021-09-30  20982.9             185.9\n",
      "753  Money Supply M2 2021-10-31  21187.1             204.2\n",
      "754  Money Supply M2 2021-11-30  21436.7             249.6\n",
      "\n",
      "[119 rows x 4 columns]\n"
     ]
    }
   ],
   "source": [
    "# read in the master counties data, create a DataFrame, create new 'county_state' column\n",
    "path = './Resources/Money_Supply_M2.csv'\n",
    "MoneySupply_2DF = pd.read_csv(path)\n",
    "keep_col = ['Category','DateTime','Value']\n",
    "MoneySupply_2DF = MoneySupply_2DF[keep_col].drop_duplicates(keep='first')\n",
    "# convert date column into date format\n",
    "MoneySupply_2DF['DateTime'] = pd.to_datetime(MoneySupply_2DF['DateTime'])\n",
    "# filter rows on the basis of date\n",
    "MoneySupply_2DF = MoneySupply_2DF[((MoneySupply_2DF['DateTime'] > '01/01/2012') & (MoneySupply_2DF['DateTime'] <= '12/31/2021'))]\n",
    "# calculate difference of Value column and add new column\n",
    "MoneySupply_2DF['Value Difference'] = MoneySupply_2DF['Value'].diff()\n",
    "print (MoneySupply_2DF)\n",
    "MoneySupply2 = './Resources/Money_Supply_M2.csv'\n",
    "MoneySupply_2DF.to_csv(MoneySupply2, index=False)"
   ]
  },
  {
   "cell_type": "code",
   "execution_count": null,
   "id": "6f4f998a",
   "metadata": {},
   "outputs": [],
   "source": []
  },
  {
   "cell_type": "code",
   "execution_count": null,
   "id": "f6d050f6",
   "metadata": {},
   "outputs": [],
   "source": []
  },
  {
   "cell_type": "code",
   "execution_count": null,
   "id": "43ca14d6",
   "metadata": {},
   "outputs": [],
   "source": []
  },
  {
   "cell_type": "code",
   "execution_count": null,
   "id": "314c650f",
   "metadata": {},
   "outputs": [],
   "source": []
  }
 ],
 "metadata": {
  "kernelspec": {
   "display_name": "Python 3",
   "language": "python",
   "name": "python3"
  },
  "language_info": {
   "codemirror_mode": {
    "name": "ipython",
    "version": 3
   },
   "file_extension": ".py",
   "mimetype": "text/x-python",
   "name": "python",
   "nbconvert_exporter": "python",
   "pygments_lexer": "ipython3",
   "version": "3.8.8"
  }
 },
 "nbformat": 4,
 "nbformat_minor": 5
}
