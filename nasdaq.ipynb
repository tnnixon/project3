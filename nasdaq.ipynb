{
 "cells": [
  {
   "cell_type": "code",
   "execution_count": 1,
   "id": "82663ee9",
   "metadata": {},
   "outputs": [],
   "source": [
    "import pandas as pd\n",
    "\n",
    "import sqlalchemy\n",
    "from sqlalchemy.ext.automap import automap_base\n",
    "from sqlalchemy.orm import Session\n",
    "from sqlalchemy import create_engine, inspect\n",
    "from sqlalchemy.exc import IntegrityError\n",
    "\n",
    "\n",
    "from datetime import datetime\n",
    "import math"
   ]
  },
  {
   "cell_type": "code",
   "execution_count": 2,
   "id": "55b5bfcb",
   "metadata": {
    "scrolled": true
   },
   "outputs": [
    {
     "name": "stdout",
     "output_type": "stream",
     "text": [
      "        Symbol       Date        Open       Close  Open Difference  \\\n",
      "0     CCMP:IND 2021-12-31  15722.9053  15644.9707              NaN   \n",
      "1     CCMP:IND 2021-12-30  15758.9834  15741.5645          36.0781   \n",
      "2     CCMP:IND 2021-12-29  15794.9219  15766.2158          35.9385   \n",
      "3     CCMP:IND 2021-12-28  15895.1982  15781.7227         100.2763   \n",
      "4     CCMP:IND 2021-12-27  15696.8291  15871.2617        -198.3691   \n",
      "...        ...        ...         ...         ...              ...   \n",
      "2570  CCMP:IND 2012-09-01   2682.9800   2676.5600         -21.4400   \n",
      "2571  CCMP:IND 2012-06-01   2671.1700   2674.2200         -11.8100   \n",
      "2572  CCMP:IND 2012-05-01   2642.5700   2669.8600         -28.6000   \n",
      "2573  CCMP:IND 2012-04-01   2639.9000   2648.3600          -2.6700   \n",
      "2574  CCMP:IND 2012-03-01   2657.3900   2648.7200          17.4900   \n",
      "\n",
      "      Close Difference  \n",
      "0                  NaN  \n",
      "1              96.5938  \n",
      "2              24.6513  \n",
      "3              15.5069  \n",
      "4              89.5390  \n",
      "...                ...  \n",
      "2570          -25.9400  \n",
      "2571           -2.3400  \n",
      "2572           -4.3600  \n",
      "2573          -21.5000  \n",
      "2574            0.3600  \n",
      "\n",
      "[2575 rows x 6 columns]\n"
     ]
    }
   ],
   "source": [
    "# read in the master counties data, create a DataFrame, create new 'county_state' column\n",
    "path = './Resources/NASDAQ.csv'\n",
    "nasdaqDF = pd.read_csv(path)\n",
    "keep_col = ['Symbol','Date','Open','Close']\n",
    "nasdaqDF = nasdaqDF[keep_col].drop_duplicates(keep='first')\n",
    "# convert date column into date format\n",
    "nasdaqDF['Date'] = pd.to_datetime(nasdaqDF['Date'])\n",
    "# filter rows on the basis of date\n",
    "nasdaqDF = nasdaqDF[((nasdaqDF['Date'] > '01/01/2012') & (nasdaqDF['Date'] <= '12/31/2021'))]\n",
    "# calculate difference of Value column and add new column\n",
    "nasdaqDF['Open Difference'] = nasdaqDF['Open'].diff()\n",
    "nasdaqDF['Close Difference'] = nasdaqDF['Close'].diff()\n",
    "print (nasdaqDF)\n",
    "nasdaq = './Resources/NASDAQ.csv'\n",
    "nasdaqDF.to_csv(nasdaq, index=False)"
   ]
  },
  {
   "cell_type": "code",
   "execution_count": 3,
   "id": "6f4f998a",
   "metadata": {},
   "outputs": [],
   "source": [
    "nasdaqMoAvg = nasdaqDF.groupby(pd.PeriodIndex(nasdaqDF['Date'], freq=\"M\"))['Close'].mean()\n",
    "nasdaqMoAvg\n",
    "nasdaqMoAvg.to_csv('./Resources/NASDAQmonthlyAVG.csv', index=True)"
   ]
  },
  {
   "cell_type": "code",
   "execution_count": null,
   "id": "f6d050f6",
   "metadata": {},
   "outputs": [],
   "source": []
  },
  {
   "cell_type": "code",
   "execution_count": null,
   "id": "43ca14d6",
   "metadata": {},
   "outputs": [],
   "source": []
  },
  {
   "cell_type": "code",
   "execution_count": null,
   "id": "314c650f",
   "metadata": {},
   "outputs": [],
   "source": []
  }
 ],
 "metadata": {
  "kernelspec": {
   "display_name": "Python 3",
   "language": "python",
   "name": "python3"
  },
  "language_info": {
   "codemirror_mode": {
    "name": "ipython",
    "version": 3
   },
   "file_extension": ".py",
   "mimetype": "text/x-python",
   "name": "python",
   "nbconvert_exporter": "python",
   "pygments_lexer": "ipython3",
   "version": "3.8.8"
  }
 },
 "nbformat": 4,
 "nbformat_minor": 5
}
