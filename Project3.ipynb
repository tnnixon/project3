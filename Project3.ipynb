{
 "cells": [
  {
   "cell_type": "code",
   "execution_count": null,
   "id": "82663ee9",
   "metadata": {},
   "outputs": [],
   "source": [
    "import pandas as pd\n",
    "\n",
    "import sqlalchemy\n",
    "from sqlalchemy.ext.automap import automap_base\n",
    "from sqlalchemy.orm import Session\n",
    "from sqlalchemy import create_engine, inspect\n",
    "from sqlalchemy.exc import IntegrityError\n",
    "\n",
    "\n",
    "from datetime import datetime\n",
    "import math"
   ]
  },
  {
   "cell_type": "code",
   "execution_count": null,
   "id": "55b5bfcb",
   "metadata": {},
   "outputs": [],
   "source": [
    "# read in the master counties data, create a DataFrame, create new 'county_state' column\n",
    "path = './Resources/Inflation_Rate.csv'\n",
    "Inflation_RateDF = pd.read_csv(path)\n",
    "keep_col = ['Category','DateTime','Value']\n",
    "Inflation_RateDF = Inflation_RateDF[keep_col].drop_duplicates(keep='first')\n",
    "# convert date column into date format\n",
    "Inflation_RateDF['DateTime'] = pd.to_datetime(Inflation_RateDF['DateTime'])\n",
    "# filter rows on the basis of date\n",
    "Inflation_RateDF = Inflation_RateDF[((Inflation_RateDF['DateTime'] > '01/01/2012') & (Inflation_RateDF['DateTime'] <= '12/31/2021'))]\n",
    "Inflation_Rate = './Resources/inflation_rate.csv'\n",
    "Inflation_RateDF.to_csv(Inflation_Rate, index=False)"
   ]
  },
  {
   "cell_type": "code",
   "execution_count": null,
   "id": "6f4f998a",
   "metadata": {},
   "outputs": [],
   "source": [
    "# calculate difference of Value column and add new column\n",
    "Inflation_RateDF['Value Difference'] = Inflation_RateDF['Value'].diff()\n",
    "print (Inflation_RateDF)"
   ]
  },
  {
   "cell_type": "code",
   "execution_count": null,
   "id": "f6d050f6",
   "metadata": {},
   "outputs": [],
   "source": []
  },
  {
   "cell_type": "code",
   "execution_count": null,
   "id": "43ca14d6",
   "metadata": {},
   "outputs": [],
   "source": []
  },
  {
   "cell_type": "code",
   "execution_count": null,
   "id": "314c650f",
   "metadata": {},
   "outputs": [],
   "source": []
  }
 ],
 "metadata": {
  "kernelspec": {
   "display_name": "Python 3",
   "language": "python",
   "name": "python3"
  },
  "language_info": {
   "codemirror_mode": {
    "name": "ipython",
    "version": 3
   },
   "file_extension": ".py",
   "mimetype": "text/x-python",
   "name": "python",
   "nbconvert_exporter": "python",
   "pygments_lexer": "ipython3",
   "version": "3.8.8"
  }
 },
 "nbformat": 4,
 "nbformat_minor": 5
}
