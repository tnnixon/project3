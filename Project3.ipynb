{
 "cells": [
  {
   "cell_type": "code",
   "execution_count": 1,
   "id": "82663ee9",
   "metadata": {},
   "outputs": [],
   "source": [
    "import pandas as pd\n",
    "\n",
    "import sqlalchemy\n",
    "from sqlalchemy.ext.automap import automap_base\n",
    "from sqlalchemy.orm import Session\n",
    "from sqlalchemy import create_engine, inspect\n",
    "from sqlalchemy.exc import IntegrityError\n",
    "import csv\n",
    "\n",
    "\n",
    "from datetime import datetime\n",
    "import math"
   ]
  },
  {
   "cell_type": "code",
   "execution_count": 2,
   "id": "55b5bfcb",
   "metadata": {},
   "outputs": [],
   "source": [
    "# read in DJIA csv and create DataFrame\n",
    "path = './Resources/DJIA.csv'\n",
    "DJIAdf = pd.read_csv(path)\n",
    "DJIAdf = DJIAdf.drop_duplicates(keep='first')\n",
    "# convert date column into date format\n",
    "DJIAdf['date'] = pd.to_datetime(DJIAdf['date'])\n",
    "# filter rows on the basis of date\n",
    "DJIAdf = DJIAdf[((DJIAdf['date'] > '01/01/2017') & (DJIAdf['date'] <= '12/31/2021'))]\n",
    "# calculate difference of Value column and add new column\n",
    "DJIAdf['Value Difference'] = DJIAdf['value'].diff()\n",
    "DJIA = './Resources/DJIA.csv'\n",
    "DJIAdf.to_csv(DJIA, index=False)"
   ]
  },
  {
   "cell_type": "code",
   "execution_count": 3,
   "id": "607398ff",
   "metadata": {},
   "outputs": [],
   "source": [
    "# create new csv file housing DJIA monthly average\n",
    "DJIAMoAvg = DJIAdf.groupby(pd.PeriodIndex(DJIAdf['date'], freq=\"M\"))['value'].mean()\n",
    "DJIAMoAvg\n",
    "DJIAMoAvg.to_csv('./Resources/DJIAmonthlyAVG.csv', index=True)"
   ]
  },
  {
   "cell_type": "code",
   "execution_count": 4,
   "id": "95448c44",
   "metadata": {},
   "outputs": [],
   "source": [
    "# read in Housing_Inventory​ csv and create DataFrame\n",
    "path = './Resources/Housing_Inventory.csv'\n",
    "Housing_Inventorydf = pd.read_csv(path)\n",
    "Housing_Inventorydf = Housing_Inventorydf.drop_duplicates(keep='first')\n",
    "# convert date column into date format\n",
    "Housing_Inventorydf['DATE'] = pd.to_datetime(Housing_Inventorydf['DATE'])\n",
    "# filter rows on the basis of date\n",
    "Housing_Inventorydf = Housing_Inventorydf[((Housing_Inventorydf['DATE'] > '01/01/2017') & (Housing_Inventorydf['DATE'] <= '12/31/2021'))]\n",
    "#calculate difference of Value column and add new column\n",
    "Housing_Inventorydf['Value Difference'] = Housing_Inventorydf['value'].diff()\n",
    "Housing_Inventory = './Resources/Housing_Inventory.csv'\n",
    "Housing_Inventorydf.to_csv(Housing_Inventory, index=False)"
   ]
  },
  {
   "cell_type": "code",
   "execution_count": null,
   "id": "6f4f998a",
   "metadata": {},
   "outputs": [],
   "source": []
  },
  {
   "cell_type": "code",
   "execution_count": null,
   "id": "f6d050f6",
   "metadata": {},
   "outputs": [],
   "source": []
  },
  {
   "cell_type": "code",
   "execution_count": null,
   "id": "43ca14d6",
   "metadata": {},
   "outputs": [],
   "source": []
  },
  {
   "cell_type": "code",
   "execution_count": null,
   "id": "314c650f",
   "metadata": {},
   "outputs": [],
   "source": []
  },
  {
   "cell_type": "code",
   "execution_count": null,
   "id": "0eef5ba1",
   "metadata": {},
   "outputs": [],
   "source": []
  }
 ],
 "metadata": {
  "kernelspec": {
   "display_name": "Python 3",
   "language": "python",
   "name": "python3"
  },
  "language_info": {
   "codemirror_mode": {
    "name": "ipython",
    "version": 3
   },
   "file_extension": ".py",
   "mimetype": "text/x-python",
   "name": "python",
   "nbconvert_exporter": "python",
   "pygments_lexer": "ipython3",
   "version": "3.8.8"
  }
 },
 "nbformat": 4,
 "nbformat_minor": 5
}
