{
 "cells": [
  {
   "cell_type": "code",
   "execution_count": 3,
   "id": "82663ee9",
   "metadata": {},
   "outputs": [],
   "source": [
    "import pandas as pd\n",
    "\n",
    "import sqlalchemy\n",
    "from sqlalchemy.ext.automap import automap_base\n",
    "from sqlalchemy.orm import Session\n",
    "from sqlalchemy import create_engine, inspect\n",
    "from sqlalchemy.exc import IntegrityError\n",
    "\n",
    "\n",
    "from datetime import datetime\n",
    "import math"
   ]
  },
  {
   "cell_type": "code",
   "execution_count": 4,
   "id": "55b5bfcb",
   "metadata": {
    "scrolled": true
   },
   "outputs": [
    {
     "name": "stdout",
     "output_type": "stream",
     "text": [
      "            Category   DateTime    Value  Value Difference\n",
      "636  Money Supply M0 2012-01-31  2640800               NaN\n",
      "637  Money Supply M0 2012-02-29  2694400           53600.0\n",
      "638  Money Supply M0 2012-03-31  2655200          -39200.0\n",
      "639  Money Supply M0 2012-04-30  2639800          -15400.0\n",
      "640  Money Supply M0 2012-05-31  2616500          -23300.0\n",
      "..               ...        ...      ...               ...\n",
      "750  Money Supply M0 2021-07-31  6130300          103200.0\n",
      "751  Money Supply M0 2021-08-31  6328800          198500.0\n",
      "752  Money Supply M0 2021-09-30  6388900           60100.0\n",
      "753  Money Supply M0 2021-10-31  6331000          -57900.0\n",
      "754  Money Supply M0 2021-11-30  6394800           63800.0\n",
      "\n",
      "[119 rows x 4 columns]\n"
     ]
    }
   ],
   "source": [
    "# read in the master counties data, create a DataFrame, create new 'county_state' column\n",
    "path = './Resources/Money_Supply_M0.csv'\n",
    "MoneySupply_0DF = pd.read_csv(path)\n",
    "keep_col = ['Category','DateTime','Value']\n",
    "MoneySupply_0DF = MoneySupply_0DF[keep_col].drop_duplicates(keep='first')\n",
    "# convert date column into date format\n",
    "MoneySupply_0DF['DateTime'] = pd.to_datetime(MoneySupply_0DF['DateTime'])\n",
    "# filter rows on the basis of date\n",
    "MoneySupply_0DF = MoneySupply_0DF[((MoneySupply_0DF['DateTime'] > '01/01/2012') & (MoneySupply_0DF['DateTime'] <= '12/31/2021'))]\n",
    "# calculate difference of Value column and add new column\n",
    "MoneySupply_0DF['Value Difference'] = MoneySupply_0DF['Value'].diff()\n",
    "print (MoneySupply_0DF)\n",
    "MoneySupply0 = './Resources/Money_Supply_M0.csv'\n",
    "MoneySupply_0DF.to_csv(MoneySupply0, index=False)"
   ]
  },
  {
   "cell_type": "code",
   "execution_count": null,
   "id": "6f4f998a",
   "metadata": {},
   "outputs": [],
   "source": []
  },
  {
   "cell_type": "code",
   "execution_count": null,
   "id": "f6d050f6",
   "metadata": {},
   "outputs": [],
   "source": []
  },
  {
   "cell_type": "code",
   "execution_count": null,
   "id": "43ca14d6",
   "metadata": {},
   "outputs": [],
   "source": []
  },
  {
   "cell_type": "code",
   "execution_count": null,
   "id": "314c650f",
   "metadata": {},
   "outputs": [],
   "source": []
  }
 ],
 "metadata": {
  "kernelspec": {
   "display_name": "Python 3",
   "language": "python",
   "name": "python3"
  },
  "language_info": {
   "codemirror_mode": {
    "name": "ipython",
    "version": 3
   },
   "file_extension": ".py",
   "mimetype": "text/x-python",
   "name": "python",
   "nbconvert_exporter": "python",
   "pygments_lexer": "ipython3",
   "version": "3.8.8"
  }
 },
 "nbformat": 4,
 "nbformat_minor": 5
}
